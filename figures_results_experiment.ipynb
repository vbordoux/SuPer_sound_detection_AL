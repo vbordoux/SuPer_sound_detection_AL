{
 "cells": [
  {
   "cell_type": "markdown",
   "id": "3e05cdd7",
   "metadata": {},
   "source": [
    "## Generate figure result\n",
    "\n",
    "Code used to create the figure used in the results section of the manuscript \"Rapid Fish Sound Detection Using Human-in-The-Loop Active Learning\" Bordoux et al (2025)."
   ]
  },
  {
   "cell_type": "code",
   "execution_count": null,
   "id": "initial_id",
   "metadata": {},
   "outputs": [],
   "source": [
    "import matplotlib.pyplot as plt\n",
    "import pandas as pd\n",
    "import pathlib\n",
    "import seaborn as sns"
   ]
  },
  {
   "cell_type": "code",
   "execution_count": null,
   "id": "0f27cb3e-14f6-481a-a2bb-ba0a5f70ced3",
   "metadata": {},
   "outputs": [],
   "source": [
    "# path_to_working_dir = pathlib.Path('/mnt/fscompute_shared/agile_modeling/experiments_paper/output')\n",
    "# datasets_to_include = ['grafton_deployment', 'texel']\n",
    "\n",
    "path_to_working_dir = pathlib.Path('/home/reindert/Valentin_REVO/surfperch_toshare/eval_texel Outputs/september 2024/final_results/')\n",
    "datasets_to_include = ['texel']\n"
   ]
  },
  {
   "cell_type": "code",
   "execution_count": null,
   "id": "3b23d19d-8b55-4f03-86c2-eed154977bf6",
   "metadata": {},
   "outputs": [],
   "source": [
    "final_results = pd.DataFrame(columns=['sound_name', 'model', 'picking_strategy', 'ratio', 'n_samples', 'split', 'value', 'metric'])\n",
    "metrics = ['precision', 'recall', 'auc_roc', 'auc_pr']\n",
    "for dataset_name in datasets_to_include:\n",
    "    dataset_folder = path_to_working_dir.joinpath(dataset_name)\n",
    "    for model_folder in dataset_folder.glob('*'): \n",
    "        if model_folder.is_dir(): \n",
    "            results_folder = model_folder.joinpath('results')\n",
    "            if results_folder.exists(): \n",
    "                for results_json in results_folder.glob('*'): \n",
    "                    if not results_json.is_dir():\n",
    "                        sound_name, model_name, strategy, ratio, _ = results_json.name.split('_')\n",
    "                        df_results = pd.read_json(str(results_json))\n",
    "                        for n_samples in df_results.columns: \n",
    "                            for split in df_results.index: \n",
    "                                results = df_results.loc[split][n_samples]\n",
    "                                for metric in metrics: \n",
    "                                    \n",
    "                                    df_i = pd.DataFrame({'sound_name': sound_name, 'model': model_name, 'picking_strategy': strategy, 'ratio': ratio, \n",
    "                                                     'n_samples': n_samples, 'split': split, 'value': results[metric], 'metric': metric})\n",
    "                                \n",
    "                                    if final_results is None:\n",
    "                                        final_results = df_i\n",
    "                                    else:\n",
    "                                        final_results = pd.concat([final_results, df_i], ignore_index=True)"
   ]
  },
  {
   "cell_type": "code",
   "execution_count": null,
   "id": "5936ced0",
   "metadata": {},
   "outputs": [],
   "source": [
    "for sound_name, sound_results in final_results.groupby('sound_name'): \n",
    "    # Plotting baseline\n",
    "    filtered_sound_results = sound_results.loc[(sound_results.ratio == '11') & (sound_results.picking_strategy == 'hockey')]\n",
    "\n",
    "    # order df to have testset first\n",
    "    filtered_sound_results = filtered_sound_results.sort_values(by=['split'])\n",
    "\n",
    "    plot = sns.relplot(\n",
    "        data=filtered_sound_results,\n",
    "        style=\"split\",\n",
    "        x=\"n_samples\", \n",
    "        y=\"value\", \n",
    "        col=\"metric\", \n",
    "        hue=\"split\", \n",
    "        kind=\"line\",\n",
    "        col_order=['precision', 'recall', 'auc_pr', 'auc_roc'], \n",
    "    )\n",
    "    plt.suptitle(f'{sound_name.capitalize()} - NL - Baseline experiment')\n",
    "    plt.tight_layout()\n",
    "    leg = plot._legend\n",
    "    leg.set_bbox_to_anchor((0.99, 0.22))\n",
    "    plt.setp(leg.get_texts(), fontsize=14)\n",
    "    plt.setp(leg.get_title(), fontsize=18)\n",
    "    plt.savefig(path_to_working_dir.joinpath('plots', f'{sound_name}_baseline.png'))\n",
    "    plt.show()"
   ]
  },
  {
   "cell_type": "code",
   "execution_count": null,
   "id": "c757bd47",
   "metadata": {},
   "outputs": [],
   "source": [
    "for sound_name, sound_results in final_results.groupby('sound_name'): \n",
    "    # Experiment 1: model \n",
    "    filtered_sound_results = sound_results.loc[(sound_results.ratio == '11')\n",
    "                                 & (sound_results.picking_strategy == 'hockey')\n",
    "                                 & (sound_results.split == 'testset')\n",
    "                                 & (sound_results.metric != 'auc_roc')]\n",
    "    plot = sns.relplot(\n",
    "        data=filtered_sound_results, style=\"model\", x=\"n_samples\", y=\"value\", col=\"metric\", hue=\"model\", kind=\"line\",\n",
    "        col_order=['precision', 'recall', 'auc_pr']\n",
    "    )\n",
    "    plt.suptitle(f'{sound_name.capitalize()} - NL - Experiment 1')\n",
    "    plt.tight_layout()\n",
    "    plt.xlim(0, 150)\n",
    "    leg = plot._legend\n",
    "    leg.set_bbox_to_anchor((0.99, 0.22))\n",
    "    plt.savefig(path_to_working_dir.joinpath('plots', f'{sound_name}exp1.png'))\n",
    "    plt.show()"
   ]
  },
  {
   "cell_type": "code",
   "execution_count": null,
   "id": "db3a657a",
   "metadata": {},
   "outputs": [],
   "source": [
    "for sound_name, sound_results in final_results.groupby('sound_name'): \n",
    "    \n",
    "    # Experiment 2: strategy \n",
    "    filtered_sound_results = sound_results.loc[(sound_results.model == 'surfperch') \n",
    "                                                & (sound_results.ratio == '11')\n",
    "                                                & (sound_results.split == 'testset')\n",
    "                                                & (sound_results.metric != 'auc_roc')]\n",
    "    # Order by picking strategy\n",
    "    filtered_sound_results = filtered_sound_results.sort_values(by=['picking_strategy'], ascending=False)\n",
    "    \n",
    "    plot = sns.relplot(data=filtered_sound_results, style=\"picking_strategy\", x=\"n_samples\", y=\"value\", col=\"metric\", hue=\"picking_strategy\", kind=\"line\",\n",
    "                        col_order=['precision', 'recall', 'auc_pr']\n",
    "    )\n",
    "\n",
    "    plt.suptitle(f'{sound_name.capitalize()} - NL - Experiment 2')\n",
    "    plt.tight_layout()\n",
    "    plt.xlim(0, 150)\n",
    "    leg = plot._legend\n",
    "    leg.set_bbox_to_anchor((0.99, 0.5))\n",
    "    plt.savefig(path_to_working_dir.joinpath('plots', f'{sound_name}_exp2.png'))\n",
    "    plt.show()"
   ]
  },
  {
   "cell_type": "code",
   "execution_count": null,
   "id": "0e55a11c",
   "metadata": {},
   "outputs": [],
   "source": [
    "for sound_name, sound_results in final_results.groupby('sound_name'): \n",
    "    # Experiment 1: model \n",
    "    filtered_sound_results = sound_results.loc[(sound_results.model == 'surfperch')\n",
    "                                 & (sound_results.picking_strategy == 'hockey')\n",
    "                                 & (sound_results.split == 'testset')\n",
    "                                 & (sound_results.metric != 'auc_roc')]\n",
    "    plot = sns.relplot(\n",
    "        data=filtered_sound_results, style=\"ratio\", x=\"n_samples\", y=\"value\", col=\"metric\", hue=\"ratio\", kind=\"line\",\n",
    "        col_order=['precision', 'recall', 'auc_pr']\n",
    "    )\n",
    "    plt.suptitle(f'{sound_name.capitalize()} - NL - Experiment 3')\n",
    "    plt.tight_layout()\n",
    "    plt.xlim(0, 150)\n",
    "    leg = plot._legend\n",
    "    leg.set_bbox_to_anchor((0.99, 0.22))\n",
    "    plt.savefig(path_to_working_dir.joinpath('plots', f'{sound_name}exp3.png'))\n",
    "    plt.show()"
   ]
  },
  {
   "cell_type": "markdown",
   "id": "a9a1b289",
   "metadata": {},
   "source": [
    "## Original code - all figures"
   ]
  },
  {
   "cell_type": "code",
   "execution_count": null,
   "id": "b2d13b3d-9bbe-459a-9dbb-7b8bbed5a122",
   "metadata": {},
   "outputs": [],
   "source": [
    "for sound_name, sound_results in final_results.groupby('sound_name'): \n",
    "    # Experiment 1: model \n",
    "    filtered_sound_results = sound_results.loc[(sound_results.ratio == '11') & (sound_results.picking_strategy == 'hockey')]\n",
    "    sns.relplot(\n",
    "        data=filtered_sound_results, style=\"model\", row='split', x=\"n_samples\", y=\"value\", col=\"metric\", hue=\"model\", kind=\"line\", row_order=[\"validation\", \"testset\"]\n",
    "    )\n",
    "    plt.suptitle(f'{sound_name.capitalize()}, experiment 1')\n",
    "    plt.tight_layout()\n",
    "    plt.savefig(path_to_working_dir.joinpath('plots', f'{sound_name}_exp1.png'))\n",
    "    plt.show()\n",
    "\n",
    "    # # Experiment 2: picking strategy\n",
    "    filtered_sound_results = sound_results.loc[(sound_results.model == 'surfperch') & (sound_results.ratio == '11')]\n",
    "    sns.relplot(\n",
    "        data=filtered_sound_results, style=\"picking_strategy\", row='split', x=\"n_samples\", y=\"value\", col=\"metric\", hue=\"picking_strategy\", kind=\"line\", row_order=[\"validation\", \"testset\"]\n",
    "    )\n",
    "    plt.suptitle(f'{sound_name.capitalize()}, experiment 2')\n",
    "    plt.tight_layout()\n",
    "    plt.savefig(path_to_working_dir.joinpath('plots', f'{sound_name}_exp2.png'))\n",
    "    plt.show()\n",
    "\n",
    "    # Experiment 2: picking strategy\n",
    "    filtered_sound_results = sound_results.loc[(sound_results.model == 'surfperch') & (sound_results.picking_strategy == 'hockey')]\n",
    "    sns.relplot(\n",
    "        data=filtered_sound_results, style=\"ratio\", row='split', x=\"n_samples\", y=\"value\", col=\"metric\", hue=\"ratio\", kind=\"line\", row_order=[\"validation\", \"testset\"]\n",
    "    )\n",
    "    plt.suptitle(f'{sound_name.capitalize()}, experiment 3')\n",
    "    plt.tight_layout()\n",
    "    plt.savefig(path_to_working_dir.joinpath('plots', f'{sound_name}_exp3.png'))\n",
    "    plt.show()\n"
   ]
  },
  {
   "cell_type": "code",
   "execution_count": null,
   "id": "6ef4b3fc-2df2-4b87-8263-318d9394d274",
   "metadata": {},
   "outputs": [],
   "source": []
  }
 ],
 "metadata": {
  "kernelspec": {
   "display_name": "surfperch_test",
   "language": "python",
   "name": "python3"
  },
  "language_info": {
   "codemirror_mode": {
    "name": "ipython",
    "version": 3
   },
   "file_extension": ".py",
   "mimetype": "text/x-python",
   "name": "python",
   "nbconvert_exporter": "python",
   "pygments_lexer": "ipython3",
   "version": "3.11.11"
  }
 },
 "nbformat": 4,
 "nbformat_minor": 5
}
